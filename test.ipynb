{
 "cells": [
  {
   "cell_type": "code",
   "execution_count": 1,
   "metadata": {
    "ExecuteTime": {
     "end_time": "2019-11-23T17:06:05.646315Z",
     "start_time": "2019-11-23T17:05:54.562227Z"
    },
    "scrolled": true
   },
   "outputs": [],
   "source": [
    "import asyncio\n",
    "from importlib.resources import read_text\n",
    "from collections import Counter\n",
    "from time import sleep\n",
    "\n",
    "import pandas as pd\n",
    "from pprint import pprint\n",
    "import simplejson as json\n",
    "from tqdm import tqdm\n",
    "\n",
    "from rest_api.db import select\n",
    "import toloka.configs as configs\n",
    "from toloka.interface import Toloka\n",
    "from toloka.task import Task\n",
    "from toloka.operation import Operation\n",
    "from toloka.pool import Pool\n",
    "from toloka.assignments import Assignment\n",
    "\n",
    "\n",
    "async with Toloka.init_session() as session:\n",
    "    res = await Assignment.list(pool_id=\"248637\")\n",
    "res = [list(zip(x['solutions'], x['tasks'])) for x in res['items'] if x['status'] == 'ACCEPTED']\n",
    "res = [(y[0]['output_values'], y[1]['input_values']) for x in res for y in x]\n",
    "df_results = pd.DataFrame.from_records(\n",
    "    [(x['doubt'], x['error'], x['result'],\n",
    "      int(y['image_left'].split('.')[0]),\n",
    "      int(y['image_right'].split('.')[0]))\n",
    "     for x, y in res],\n",
    "    columns=['Doubt', 'Error', 'Result', 'EventId1', 'EventId2']\n",
    ")\n",
    "res, cols = select(\"\"\"\n",
    "SELECT\n",
    "    EventId1,\n",
    "    EventId2,\n",
    "    m.Confidence,\n",
    "    f1.Age Age1,\n",
    "    f2.Age Age2,\n",
    "    f1.Gender Gender1,\n",
    "    f2.Gender Gender2,\n",
    "    f1.Quality Quality1,\n",
    "    f2.Quality Quality2\n",
    "FROM (\n",
    "    SELECT DISTINCT\n",
    "        IIF(m.EventId1 > m.EventId2, m.EventId1, m.EventId2) EventId1,\n",
    "        IIF(m.EventId1 > m.EventId2, m.EventId2, m.EventId1) EventId2,\n",
    "        m.Confidence\n",
    "    FROM FFMatrix m WITH(nolock)\n",
    "        JOIN FindFaceEvents f1 WITH (nolock) ON f1.Id=EventId1 AND f1.Store LIKE '107%' AND f1.CreatedDate BETWEEN '2019-09-11' AND '2019-09-13'\n",
    "        JOIN FindFaceEvents f2 WITH (nolock) ON f2.Id=EventId2 AND f2.Store LIKE '107%' AND f2.CreatedDate BETWEEN '2019-09-11' AND '2019-09-13'\n",
    "    WHERE m.Confidence > 0.67 AND EventId1 <> EventId2\n",
    "\n",
    ") m\n",
    "    JOIN FindFaceEvents f1 WITH (nolock) ON f1.Id=EventId1 AND f1.Store LIKE '107%' AND f1.CreatedDate BETWEEN '2019-09-11' AND '2019-09-13'\n",
    "    JOIN FindFaceEvents f2 WITH (nolock) ON f2.Id=EventId2 AND f2.Store LIKE '107%' AND f2.CreatedDate BETWEEN '2019-09-11' AND '2019-09-13'\n",
    "\"\"\")\n",
    "df_conf = pd.DataFrame.from_records(res, columns=cols)\n",
    "df = pd.merge(df_results, df_conf, on=['EventId1', 'EventId2'], how=\"inner\")\n",
    "df['EventId1'] = df['EventId1'].astype(str)\n",
    "df['EventId2'] = df['EventId2'].astype(str)\n",
    "df['Age1'] = df['Age1'].astype(float)\n",
    "df['Age2'] = df['Age2'].astype(float)\n",
    "df['Quality1'] = df['Quality1'].astype(float)\n",
    "df['Quality2'] = df['Quality2'].astype(float)\n",
    "df['Confidence'] = df['Confidence'].astype(float)\n",
    "df.to_excel('C:/Users/Somov.A/Desktop/toloka_results.xlsx', index=False)\n"
   ]
  },
  {
   "cell_type": "code",
   "execution_count": null,
   "metadata": {},
   "outputs": [],
   "source": []
  },
  {
   "cell_type": "code",
   "execution_count": null,
   "metadata": {
    "ExecuteTime": {
     "start_time": "2019-11-23T14:49:41.635Z"
    }
   },
   "outputs": [],
   "source": [
    "import asyncio\n",
    "\n",
    "async def main():\n",
    "    await asyncio.sleep(2)\n",
    "    return 1\n",
    "\n",
    "await main()"
   ]
  },
  {
   "cell_type": "code",
   "execution_count": null,
   "metadata": {},
   "outputs": [],
   "source": []
  }
 ],
 "metadata": {
  "kernelspec": {
   "display_name": "Python 3",
   "language": "python",
   "name": "python3"
  },
  "language_info": {
   "codemirror_mode": {
    "name": "ipython",
    "version": 3
   },
   "file_extension": ".py",
   "mimetype": "text/x-python",
   "name": "python",
   "nbconvert_exporter": "python",
   "pygments_lexer": "ipython3",
   "version": "3.7.4"
  },
  "varInspector": {
   "cols": {
    "lenName": 16,
    "lenType": 16,
    "lenVar": 40
   },
   "kernels_config": {
    "python": {
     "delete_cmd_postfix": "",
     "delete_cmd_prefix": "del ",
     "library": "var_list.py",
     "varRefreshCmd": "print(var_dic_list())"
    },
    "r": {
     "delete_cmd_postfix": ") ",
     "delete_cmd_prefix": "rm(",
     "library": "var_list.r",
     "varRefreshCmd": "cat(var_dic_list()) "
    }
   },
   "types_to_exclude": [
    "module",
    "function",
    "builtin_function_or_method",
    "instance",
    "_Feature"
   ],
   "window_display": false
  }
 },
 "nbformat": 4,
 "nbformat_minor": 2
}
